{
 "cells": [
  {
   "cell_type": "markdown",
   "metadata": {},
   "source": [
    "Takes the iCalendar ICS as a CSV and parses out and presents the data in a nice, readable format."
   ]
  },
  {
   "cell_type": "code",
   "execution_count": 40,
   "metadata": {},
   "outputs": [],
   "source": [
    "import csv\n",
    "\n",
    "csv_file = open(\"ics.csv\")"
   ]
  },
  {
   "cell_type": "code",
   "execution_count": 41,
   "metadata": {},
   "outputs": [],
   "source": [
    "csvreader = csv.reader(csv_file)"
   ]
  },
  {
   "cell_type": "code",
   "execution_count": 42,
   "metadata": {},
   "outputs": [],
   "source": [
    "import re"
   ]
  },
  {
   "cell_type": "code",
   "execution_count": 43,
   "metadata": {},
   "outputs": [
    {
     "name": "stdout",
     "output_type": "stream",
     "text": [
      "[{'Start Time': '14:40\\t01/06/2022', 'End Time': '14:55\\t01/06/2022', 'Summary': 'Outbound call 90meter Inc.', 'Description': \"Spoke to Matt Vanselow.\\\\nsells a lot to government middleware for classification onto a classified network. if you have sipper?. Main product is Smartcard manager / card issuance workstation. PKI? Middleware (also have non-classified stuff). We've been bidding a lot lately so they noticed us. Will receive an email from him with product info expected to reply with info on possibly talking more and maybe meeting in CA.\"}, {'Start Time': '16:05\\t01/06/2022', 'End Time': '16:06\\t01/06/2022', 'Summary': 'Outbound call A Cloud Guru', 'Description': 'No response'}, {'Start Time': '16:10\\t01/06/2022', 'End Time': '16:20\\t01/06/2022', 'Summary': 'Outbound call AbacusNEXT', 'Description': \"Spoke to Scott Meyers.\\\\nGovernment-specific: HotDocs. Takes Word documents and makes templates out of them. Insurance and banking / governments. Good for filling out the same documents on a regular basis. Easy to change and update. Best for formal legal-esque stuff. Doesn't have a partner program or anything. Familiar with us. He's normally the guy we'd work with. Shaz / Norman. Global company no particular office in the region. HQ in San Diego. He's in Utah. \\\\nLikes virtual work.\\\\nShoot him an email so he has your contact.\"}, {'Start Time': '16:45\\t01/06/2022', 'End Time': '16:46\\t01/06/2022', 'Summary': 'Outbound call Acces I/O Products Inc.', 'Description': 'No response'}, {'Start Time': '16:45\\t01/06/2022', 'End Time': '16:46\\t01/06/2022', 'Summary': 'Outbound call achieveit', 'Description': 'No response'}, {'Start Time': '15:10\\t01/06/2022', 'End Time': '15:20\\t01/06/2022', 'Summary': 'Outbound call PROLINE', 'Description': \"Val in sales responded to call sent me over to Bob (her supervisor). \\\\nThey don't have any sort of partner program but we can open an account with them to get perks and discounts on purchases that might increase our margins. \\\\nWe worked for a while to find the order number relating our companies from the RFQ. We had apparently started to set up an account with them at some point but had not finished. \\\\nThey have a guy from Georgia who sometimes comes up near DC if we were interested in meeting. Kevin Wall.\"}, {'Start Time': '15:50\\t01/06/2022', 'End Time': '15:51\\t01/06/2022', 'Summary': 'Outbound call 45Drives', 'Description': 'No response'}, {'Start Time': '16:25\\t01/06/2022', 'End Time': '16:33\\t01/06/2022', 'Summary': 'Outbound call ABMX Servers', 'Description': \"John responded to the call. Ryan no longer works there.\\\\nABMX sells servers and fully-assembled systems. \\\\nLast sale in July of last year. Don't really do lead generation / contract stuff. Lead generation from Google sales from pre-existing clients. CA-based. CA team can reach out via same contacts. \\\\nContact: Same number (sales/support line). john@abmx.com\\\\nSome other guy named Alan answers this line.\"}, {'Start Time': '15:35\\t01/06/2022', 'End Time': '15:36\\t01/06/2022', 'Summary': 'Outbound call A&J Manufacturing Company', 'Description': 'No response'}, {'Start Time': '15:55\\t01/06/2022', 'End Time': '16:00\\t01/06/2022', 'Summary': 'Outbound call Guardian Safety', 'Description': 'James Guerrero answered the phone. EnviroSafety is a child company of Guardian Safety.\\\\nIn CA. Discussed an email and where we might like to meet in the future. His email is jguerrero@envirosafety.com.'}, {'Start Time': '15:05\\t01/06/2022', 'End Time': '15:08\\t01/06/2022', 'Summary': 'Outbound call Merlin Cyber', 'Description': 'Says she is very busy. Set task to call again next week.'}, {'Start Time': '11:15\\t02/06/2022', 'End Time': '11:20\\t02/06/2022', 'Summary': 'Outbound call AC General Inc.', 'Description': \"Called ran into some trouble with their robot answering machine. Got on the line with a guy who didn't want to give me his name. Mentioned some past business we had and asked if he had time. He seemed to be alright with proceeding with the call. He got another call put me on hold for a few seconds and then hung up on me. \\\\nDuring the call I was able to figure out they apparently normally do their own sales and don't work with distributors. Perhaps this is a change from what they did in the past?\"}, {'Start Time': '11:35\\t02/06/2022', 'End Time': '11:38\\t02/06/2022', 'Summary': 'Outbound call Daisy Data Displays', 'Description': 'No response left a voicemail with Karyn requesting that she call back or email me to schedule a time to talk.'}, {'Start Time': '11:55\\t02/06/2022', 'End Time': '11:58\\t02/06/2022', 'Summary': 'Outbound call Exxact Corporation', 'Description': 'Called and got Mike directly. He said he was having trouble understanding me and asked if I would email him. mike@exxactcorp.com.'}, {'Start Time': '14:50\\t02/06/2022', 'End Time': '14:58\\t02/06/2022', 'Summary': 'Outbound call InnovMetric', 'Description': 'I was able to reach Joelle by dialing 254 (I believe her extension was 419). She directed me to info@innovmetric.com for more information and said that we should be able to ask for additional information on quotes by responding to the email that provided the quote.'}, {'Start Time': '15:40\\t02/06/2022', 'End Time': '15:44\\t02/06/2022', 'Summary': 'Outbound call Lookout', 'Description': \"Called and quickly got Mike's voicemail. Left a message requesting that he call or email me back so that I could get more information about Lookout.\"}, {'Start Time': '15:55\\t02/06/2022', 'End Time': '15:59\\t02/06/2022', 'Summary': 'Outbound call Nova Power Solutions', 'Description': 'Betsy answered my call. She said that they are only willing to sell through a distributor like us in the event that the customer has to make a purchase through SEWP as they do not hold a SEWP contract. However in that event they are completely open to doing business through us.'}, {'Start Time': '16:10\\t02/06/2022', 'End Time': '16:14\\t02/06/2022', 'Summary': 'Outbound call Orbit Analytics', 'Description': 'No response left a voicemail requesting he get in touch so that I can learn more about Orbit.'}, {'Start Time': '16:20\\t02/06/2022', 'End Time': '16:26\\t02/06/2022', 'Summary': 'Outbound call Time Machines Corp', 'Description': \"Godfrey picked up on the sales team.\\\\nTime servers NTP clocks (get time from timeservers POE/Wifi). Good for synchronized clocks. Timeservers are nice for isolated networks that can't contact an outside timeserver. 5% off for 5+ 10+ = 10%. \\\\nThey don't have any kind of partnership discount just the volume discounts shown above. Seems like we might have trouble using it but maybe if we had a bunch of different customers who needed a pair of timeservers it could work out.\"}, {'Start Time': '12:55\\t03/06/2022', 'End Time': '12:59\\t03/06/2022', 'Summary': 'Outbound call AC General Inc.', 'Description': \"No response got to Sandy's voicemail. Left a message requesting she get back to me at her earliest convenience so that I could learn more about AC General.\"}, {'Start Time': '13:05\\t03/06/2022', 'End Time': '13:09\\t03/06/2022', 'Summary': 'Outbound call Acopian', 'Description': 'I called got a nice woman on the sales team. She said they generally do direct sales so I assume we work together only for federal customers. They have no partner program and do not generally do discounts.'}, {'Start Time': '13:15\\t03/06/2022', 'End Time': '13:19\\t03/06/2022', 'Summary': 'Outbound call ATI Systems Acoustic Technology Inc.', 'Description': \"I tried to call Antonio's desk and his mobile and got voicemail. I also tried to reach their sales team which resulted in their robot hanging up on me and their receptionist which also immediately ended the call. Finally\"}, {'Start Time': '13:30\\t03/06/2022', 'End Time': '13:34\\t03/06/2022', 'Summary': 'Outbound call Acquia', 'Description': 'No response. Left a voicemail with Joe requesting that he call me or email me.'}, {'Start Time': '13:35\\t03/06/2022', 'End Time': '13:40\\t03/06/2022', 'Summary': 'Outbound call Acroname', 'Description': \"Got Lance he railroaded the call and said he'd send me some contacts. Why I would want those remains to be seen but I was a little too afraid of being impolite. Seems like they might have some helpful products to know particularly their managed USB hubs. Sent him an email will update with the response.\"}, {'Start Time': '13:50\\t03/06/2022', 'End Time': '13:54\\t03/06/2022', 'Summary': 'Outbound call Acronis SCS', 'Description': 'No response left a voicemail with Starr requesting that she get in touch.'}, {'Start Time': '13:55\\t03/06/2022', 'End Time': '14:00\\t03/06/2022', 'Summary': 'Outbound call Actionable Intelligence Technologies Inc.', 'Description': \"I called their office number and pressed 1 to talk to sales which directed me to Susan's full voice mailbox. I tried her cell and got her at the grocery store so we decided I should call back on Monday. Setting a task for that.\"}, {'Start Time': '14:15\\t03/06/2022', 'End Time': '14:19\\t03/06/2022', 'Summary': 'Outbound call ActivePDF', 'Description': \"No response got their sales team's voicemail. I'll call back another time.\"}, {'Start Time': '14:25\\t03/06/2022', 'End Time': '14:29\\t03/06/2022', 'Summary': 'Outbound call ActiveState Software', 'Description': \"Tried to call them. Their sales line redirects to a message asking you to use their website. Tried getting Tom (Thomas?) directly using their directory and had no luck with that.\\\\nIf you're reading this while sending out emails send these guys an email or just use their website.\"}, {'Start Time': '14:35\\t03/06/2022', 'End Time': '14:46\\t03/06/2022', 'Summary': 'Outbound call ActivePDF', 'Description': 'Got Cherise.\\\\nWebgrabber lets you take HTML and convert it into a PDF.\\\\nToolkit like a swiss army knife for PDFs. Basically an API for PDF documents.\\\\nTwo license models: standard production (1 license = 1 activation activate various installations on various servers) developer program (test & dev only sold by user). These are term-based licenses.\\\\nThey have (ablegov? insight?).'}]\n"
     ]
    }
   ],
   "source": [
    "# I'm thinking we step through the rows one at a time. \n",
    "running = True\n",
    "events = []\n",
    "current_event = {}\n",
    "\n",
    "while running:\n",
    "    row = next(csvreader)\n",
    "    row_code = row[0]\n",
    "\n",
    "    if row_code == \"DTSTART\": # note that the times aren't timezone-adjusted and I'll have to do that\n",
    "        timestamp_match = re.match(r\"VALUE=DATE-TIME:(?P<year>\\d{4})(?P<month>\\d{2})(?P<day>\\d{2})T(?P<hour>\\d{2})(?P<minute>\\d{2})(?P<second>\\d{2})\", row[1])\n",
    "        # subtract 4 hours from the time\n",
    "        datetime_string = \"\" + str(int(timestamp_match.group(\"hour\")) - 4) + \":\" + timestamp_match.group(\"minute\") + \"\\t\" + timestamp_match.group(\"day\") + \"/\" + timestamp_match.group(\"month\") + \"/\" + timestamp_match.group(\"year\")\n",
    "        current_event[\"Start Time\"] = datetime_string\n",
    "    elif row_code == \"DTEND\": # note that the times aren't timezone-adjusted and I'll have to do that\n",
    "        timestamp_match = re.match(r\"VALUE=DATE-TIME:(?P<year>\\d{4})(?P<month>\\d{2})(?P<day>\\d{2})T(?P<hour>\\d{2})(?P<minute>\\d{2})(?P<second>\\d{2})\", row[1])\n",
    "        # subtract 4 hours from the time\n",
    "        datetime_string = \"\" + str(int(timestamp_match.group(\"hour\")) - 4) + \":\" + timestamp_match.group(\"minute\") + \"\\t\" + timestamp_match.group(\"day\") + \"/\" + timestamp_match.group(\"month\") + \"/\" + timestamp_match.group(\"year\")\n",
    "        current_event[\"End Time\"] = datetime_string\n",
    "    elif \"SUMMARY\" in row_code:\n",
    "        current_event[\"Summary\"] = re.match(r\"SUMMARY:(?P<first>.+)\", row[0]).group(\"first\")\n",
    "    elif \"DESCRIPTION\" in row_code:\n",
    "        first_col = re.match(r\"DESCRIPTION:(?P<first>.+)\", row[0])\n",
    "        current_event[\"Description\"] = first_col.group(\"first\") + row[1] + row[2] + row[3] + row[4]\n",
    "    elif row_code == \"END:VEVENT\":\n",
    "        events.append(current_event)\n",
    "        current_event = {}\n",
    "    elif row_code == \"END:VCALENDAR\":\n",
    "        running = False\n",
    "print(events)"
   ]
  },
  {
   "cell_type": "code",
   "execution_count": 44,
   "metadata": {},
   "outputs": [],
   "source": [
    "output_string = \"\"\n",
    "for event in events:\n",
    "    output_string = output_string + \"Start: \" + event[\"Start Time\"] + \"\\t\" + \"End: \" + event[\"End Time\"] + \"\\n\"\n",
    "    company = re.match(r\"Outbound call (?P<company>.+)\", event[\"Summary\"]).group(\"company\")\n",
    "    output_string = output_string + \"Called \" + company + \"\\n\"\n",
    "    output_string = output_string + event[\"Description\"] + \"\\n\\n\""
   ]
  },
  {
   "cell_type": "code",
   "execution_count": 45,
   "metadata": {},
   "outputs": [],
   "source": [
    "output_string = output_string.replace(r'\\\\n', r'\\n')"
   ]
  },
  {
   "cell_type": "code",
   "execution_count": 46,
   "metadata": {},
   "outputs": [],
   "source": [
    "# output_string"
   ]
  },
  {
   "cell_type": "code",
   "execution_count": 47,
   "metadata": {},
   "outputs": [
    {
     "name": "stdout",
     "output_type": "stream",
     "text": [
      "Start: 14:40\t01/06/2022\tEnd: 14:55\t01/06/2022\n",
      "Called 90meter Inc.\n",
      "Spoke to Matt Vanselow.\n",
      "sells a lot to government middleware for classification onto a classified network. if you have sipper?. Main product is Smartcard manager / card issuance workstation. PKI? Middleware (also have non-classified stuff). We've been bidding a lot lately so they noticed us. Will receive an email from him with product info expected to reply with info on possibly talking more and maybe meeting in CA.\n",
      "\n",
      "Start: 16:05\t01/06/2022\tEnd: 16:06\t01/06/2022\n",
      "Called A Cloud Guru\n",
      "No response\n",
      "\n",
      "Start: 16:10\t01/06/2022\tEnd: 16:20\t01/06/2022\n",
      "Called AbacusNEXT\n",
      "Spoke to Scott Meyers.\n",
      "Government-specific: HotDocs. Takes Word documents and makes templates out of them. Insurance and banking / governments. Good for filling out the same documents on a regular basis. Easy to change and update. Best for formal legal-esque stuff. Doesn't have a partner program or anything. Familiar with us. He's normally the guy we'd work with. Shaz / Norman. Global company no particular office in the region. HQ in San Diego. He's in Utah. \n",
      "Likes virtual work.\n",
      "Shoot him an email so he has your contact.\n",
      "\n",
      "Start: 16:45\t01/06/2022\tEnd: 16:46\t01/06/2022\n",
      "Called Acces I/O Products Inc.\n",
      "No response\n",
      "\n",
      "Start: 16:45\t01/06/2022\tEnd: 16:46\t01/06/2022\n",
      "Called achieveit\n",
      "No response\n",
      "\n",
      "Start: 15:10\t01/06/2022\tEnd: 15:20\t01/06/2022\n",
      "Called PROLINE\n",
      "Val in sales responded to call sent me over to Bob (her supervisor). \n",
      "They don't have any sort of partner program but we can open an account with them to get perks and discounts on purchases that might increase our margins. \n",
      "We worked for a while to find the order number relating our companies from the RFQ. We had apparently started to set up an account with them at some point but had not finished. \n",
      "They have a guy from Georgia who sometimes comes up near DC if we were interested in meeting. Kevin Wall.\n",
      "\n",
      "Start: 15:50\t01/06/2022\tEnd: 15:51\t01/06/2022\n",
      "Called 45Drives\n",
      "No response\n",
      "\n",
      "Start: 16:25\t01/06/2022\tEnd: 16:33\t01/06/2022\n",
      "Called ABMX Servers\n",
      "John responded to the call. Ryan no longer works there.\n",
      "ABMX sells servers and fully-assembled systems. \n",
      "Last sale in July of last year. Don't really do lead generation / contract stuff. Lead generation from Google sales from pre-existing clients. CA-based. CA team can reach out via same contacts. \n",
      "Contact: Same number (sales/support line). john@abmx.com\n",
      "Some other guy named Alan answers this line.\n",
      "\n",
      "Start: 15:35\t01/06/2022\tEnd: 15:36\t01/06/2022\n",
      "Called A&J Manufacturing Company\n",
      "No response\n",
      "\n",
      "Start: 15:55\t01/06/2022\tEnd: 16:00\t01/06/2022\n",
      "Called Guardian Safety\n",
      "James Guerrero answered the phone. EnviroSafety is a child company of Guardian Safety.\n",
      "In CA. Discussed an email and where we might like to meet in the future. His email is jguerrero@envirosafety.com.\n",
      "\n",
      "Start: 15:05\t01/06/2022\tEnd: 15:08\t01/06/2022\n",
      "Called Merlin Cyber\n",
      "Says she is very busy. Set task to call again next week.\n",
      "\n",
      "Start: 11:15\t02/06/2022\tEnd: 11:20\t02/06/2022\n",
      "Called AC General Inc.\n",
      "Called ran into some trouble with their robot answering machine. Got on the line with a guy who didn't want to give me his name. Mentioned some past business we had and asked if he had time. He seemed to be alright with proceeding with the call. He got another call put me on hold for a few seconds and then hung up on me. \n",
      "During the call I was able to figure out they apparently normally do their own sales and don't work with distributors. Perhaps this is a change from what they did in the past?\n",
      "\n",
      "Start: 11:35\t02/06/2022\tEnd: 11:38\t02/06/2022\n",
      "Called Daisy Data Displays\n",
      "No response left a voicemail with Karyn requesting that she call back or email me to schedule a time to talk.\n",
      "\n",
      "Start: 11:55\t02/06/2022\tEnd: 11:58\t02/06/2022\n",
      "Called Exxact Corporation\n",
      "Called and got Mike directly. He said he was having trouble understanding me and asked if I would email him. mike@exxactcorp.com.\n",
      "\n",
      "Start: 14:50\t02/06/2022\tEnd: 14:58\t02/06/2022\n",
      "Called InnovMetric\n",
      "I was able to reach Joelle by dialing 254 (I believe her extension was 419). She directed me to info@innovmetric.com for more information and said that we should be able to ask for additional information on quotes by responding to the email that provided the quote.\n",
      "\n",
      "Start: 15:40\t02/06/2022\tEnd: 15:44\t02/06/2022\n",
      "Called Lookout\n",
      "Called and quickly got Mike's voicemail. Left a message requesting that he call or email me back so that I could get more information about Lookout.\n",
      "\n",
      "Start: 15:55\t02/06/2022\tEnd: 15:59\t02/06/2022\n",
      "Called Nova Power Solutions\n",
      "Betsy answered my call. She said that they are only willing to sell through a distributor like us in the event that the customer has to make a purchase through SEWP as they do not hold a SEWP contract. However in that event they are completely open to doing business through us.\n",
      "\n",
      "Start: 16:10\t02/06/2022\tEnd: 16:14\t02/06/2022\n",
      "Called Orbit Analytics\n",
      "No response left a voicemail requesting he get in touch so that I can learn more about Orbit.\n",
      "\n",
      "Start: 16:20\t02/06/2022\tEnd: 16:26\t02/06/2022\n",
      "Called Time Machines Corp\n",
      "Godfrey picked up on the sales team.\n",
      "Time servers NTP clocks (get time from timeservers POE/Wifi). Good for synchronized clocks. Timeservers are nice for isolated networks that can't contact an outside timeserver. 5% off for 5+ 10+ = 10%. \n",
      "They don't have any kind of partnership discount just the volume discounts shown above. Seems like we might have trouble using it but maybe if we had a bunch of different customers who needed a pair of timeservers it could work out.\n",
      "\n",
      "Start: 12:55\t03/06/2022\tEnd: 12:59\t03/06/2022\n",
      "Called AC General Inc.\n",
      "No response got to Sandy's voicemail. Left a message requesting she get back to me at her earliest convenience so that I could learn more about AC General.\n",
      "\n",
      "Start: 13:05\t03/06/2022\tEnd: 13:09\t03/06/2022\n",
      "Called Acopian\n",
      "I called got a nice woman on the sales team. She said they generally do direct sales so I assume we work together only for federal customers. They have no partner program and do not generally do discounts.\n",
      "\n",
      "Start: 13:15\t03/06/2022\tEnd: 13:19\t03/06/2022\n",
      "Called ATI Systems Acoustic Technology Inc.\n",
      "I tried to call Antonio's desk and his mobile and got voicemail. I also tried to reach their sales team which resulted in their robot hanging up on me and their receptionist which also immediately ended the call. Finally\n",
      "\n",
      "Start: 13:30\t03/06/2022\tEnd: 13:34\t03/06/2022\n",
      "Called Acquia\n",
      "No response. Left a voicemail with Joe requesting that he call me or email me.\n",
      "\n",
      "Start: 13:35\t03/06/2022\tEnd: 13:40\t03/06/2022\n",
      "Called Acroname\n",
      "Got Lance he railroaded the call and said he'd send me some contacts. Why I would want those remains to be seen but I was a little too afraid of being impolite. Seems like they might have some helpful products to know particularly their managed USB hubs. Sent him an email will update with the response.\n",
      "\n",
      "Start: 13:50\t03/06/2022\tEnd: 13:54\t03/06/2022\n",
      "Called Acronis SCS\n",
      "No response left a voicemail with Starr requesting that she get in touch.\n",
      "\n",
      "Start: 13:55\t03/06/2022\tEnd: 14:00\t03/06/2022\n",
      "Called Actionable Intelligence Technologies Inc.\n",
      "I called their office number and pressed 1 to talk to sales which directed me to Susan's full voice mailbox. I tried her cell and got her at the grocery store so we decided I should call back on Monday. Setting a task for that.\n",
      "\n",
      "Start: 14:15\t03/06/2022\tEnd: 14:19\t03/06/2022\n",
      "Called ActivePDF\n",
      "No response got their sales team's voicemail. I'll call back another time.\n",
      "\n",
      "Start: 14:25\t03/06/2022\tEnd: 14:29\t03/06/2022\n",
      "Called ActiveState Software\n",
      "Tried to call them. Their sales line redirects to a message asking you to use their website. Tried getting Tom (Thomas?) directly using their directory and had no luck with that.\n",
      "If you're reading this while sending out emails send these guys an email or just use their website.\n",
      "\n",
      "Start: 14:35\t03/06/2022\tEnd: 14:46\t03/06/2022\n",
      "Called ActivePDF\n",
      "Got Cherise.\n",
      "Webgrabber lets you take HTML and convert it into a PDF.\n",
      "Toolkit like a swiss army knife for PDFs. Basically an API for PDF documents.\n",
      "Two license models: standard production (1 license = 1 activation activate various installations on various servers) developer program (test & dev only sold by user). These are term-based licenses.\n",
      "They have (ablegov? insight?).\n",
      "\n",
      "\n"
     ]
    }
   ],
   "source": [
    "print(output_string.encode('utf-8').decode('unicode_escape'))"
   ]
  }
 ],
 "metadata": {
  "interpreter": {
   "hash": "c6c2e7048903ec76ed48861348f76f8245915ade6a9361794fa0adebd979656c"
  },
  "kernelspec": {
   "display_name": "Python 3.10.2 64-bit",
   "language": "python",
   "name": "python3"
  },
  "language_info": {
   "codemirror_mode": {
    "name": "ipython",
    "version": 3
   },
   "file_extension": ".py",
   "mimetype": "text/x-python",
   "name": "python",
   "nbconvert_exporter": "python",
   "pygments_lexer": "ipython3",
   "version": "3.10.2"
  },
  "orig_nbformat": 4
 },
 "nbformat": 4,
 "nbformat_minor": 2
}
