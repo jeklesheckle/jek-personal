{
 "cells": [
  {
   "cell_type": "markdown",
   "metadata": {},
   "source": [
    "Required files:  \n",
    "creds.txt: SAM.gov API key  \n",
    "naics.txt: Newline-separated list of NAICS codes  \n",
    "\n",
    "TODOS:\n",
    "* Ask if \"Close date\" should be Original Date Offers Due or Original Inactive Date\n",
    "* URGENT: adding too many NAICS Codes pushes the rest of the UI off the edge making it unusable\n",
    "* general: create some user docs\n",
    "* make window more resize-friendly and generally less fragile\n",
    "* improve error reporting UX\n",
    "* add icon and custom naming to build command\n",
    "* add development flow for using pre-downloaded data rather than requests\n",
    "* confirm whether they'll have access to more than 10 requests / day\n",
    "* figure out how you're going to package and ship this over to them (just a .zip?), antivirus problems?\n",
    "* allow right-click copy-and-paste if possible\n",
    "* try and reduce the size of the final program considerably"
   ]
  },
  {
   "cell_type": "code",
   "execution_count": 8,
   "metadata": {},
   "outputs": [],
   "source": [
    "# import libraries\n",
    "from requests import get\n",
    "from json import loads\n",
    "import datetime\n",
    "import PySimpleGUI as sg\n",
    "from pandas import DataFrame, concat\n",
    "from time import sleep"
   ]
  },
  {
   "cell_type": "code",
   "execution_count": 9,
   "metadata": {},
   "outputs": [],
   "source": [
    "# get API key\n",
    "def fetch_api_key():\n",
    "    with open(\"./creds.txt\") as creds_file:\n",
    "        contents = creds_file.read().replace(\" \", \"\").replace(\"\\n\", \"\")\n",
    "        if (not contents):\n",
    "            raise FileNotFoundError(\"There's something wrong with your API key in creds.txt\")\n",
    "        return contents\n",
    "    "
   ]
  },
  {
   "cell_type": "code",
   "execution_count": 10,
   "metadata": {},
   "outputs": [],
   "source": [
    "def generate_request(limit, naics_code, api_key):\n",
    "    base_uri = \"https://api.sam.gov/prod/opportunities/v2/search\"\n",
    "    limit_string = \"?limit=\" + str(1000)\n",
    "\n",
    "    # limit date to today mm/dd/yyyy\n",
    "    now = datetime.datetime.now().date()\n",
    "    now_date_string = str(now.month) + \"/\" + str(now.day) + \"/\" + str(now.year)\n",
    "    date_range_string = \"&postedFrom=\" + now_date_string + \"&postedTo=\" + now_date_string\n",
    "\n",
    "    # notice type: Combined Synopsis / Solicitation\n",
    "    ptype_string = \"&ptype=k\"\n",
    "\n",
    "    # NAICS codes\n",
    "    ncode_string = \"&ncode=\" + naics_code\n",
    "\n",
    "    # set aside: Total Small Business (19.5)\n",
    "    set_aside_string = \"&typeOfSetAside=SBA\"\n",
    "\n",
    "    # status: active\n",
    "    # TODO (GSA haven't implemented somehow as of 10/7/2023)\n",
    "\n",
    "    request = base_uri + limit_string + \"&api_key=\" + api_key + date_range_string + ptype_string + set_aside_string + ncode_string\n",
    "    return request"
   ]
  },
  {
   "cell_type": "code",
   "execution_count": 11,
   "metadata": {},
   "outputs": [],
   "source": [
    "# fields I care about:\n",
    "# * Portal: static value for now \"Sam.gov\"\n",
    "# * Date: today's date\n",
    "# * NAICS Code: part of the search, but also part of the response\n",
    "# * SolicitationNumber: string (call the column \"RFQ/Solicitation/Buy #\")\n",
    "# * RFQ TITLE: title: string\n",
    "# * ISSUE DATE: postedDate: date as string\n",
    "# * Close Date: responseDeadLine: date as string\n",
    "\n",
    "def create_opportunity_record(opportunity):\n",
    "    record = {}\n",
    "    record[\"Portal\"] = [\"SAM.gov\"]\n",
    "    record[\"DATE\"] = [datetime.datetime.now().ctime()]\n",
    "    record[\"NAICS Code\"] = [opportunity[\"naicsCode\"]]\n",
    "    record[\"RFQ/Solicitation/Buy #\"] = [opportunity[\"solicitationNumber\"]]\n",
    "    record[\"RFQ TITLE\"] = [opportunity[\"title\"]]\n",
    "    record[\"ISSUE DATE\"] = [opportunity[\"postedDate\"]]\n",
    "    record[\"Close Date\"] = [opportunity[\"responseDeadLine\"]]\n",
    "    return DataFrame.from_dict(record)"
   ]
  },
  {
   "cell_type": "code",
   "execution_count": 12,
   "metadata": {},
   "outputs": [],
   "source": [
    "# goes through the provided text file of naics\n",
    "def get_selected_naics():\n",
    "    naics = []\n",
    "    with open(\"./naics.txt\") as naics_file:\n",
    "        for line in naics_file:\n",
    "            line = line.replace(\"\\n\", \"\")\n",
    "            naics.append(line)\n",
    "    return naics"
   ]
  },
  {
   "cell_type": "markdown",
   "metadata": {},
   "source": [
    "## UI"
   ]
  },
  {
   "cell_type": "code",
   "execution_count": 13,
   "metadata": {},
   "outputs": [],
   "source": [
    "# custom components\n",
    "def double_button(text):\n",
    "    return [sg.pin(sg.Button(text, pad=((5,0),(5,5)), disabled=True, disabled_button_color=(\"black\", None), k=\"button_\"+text)), sg.pin(sg.Button(\"X\", pad=((0,5),(5,5)), k=\"remove_\"+text))]\n",
    "\n",
    "def current_naics_layout(naics_list):\n",
    "    return [double_button(naics_code) for naics_code in naics_list]"
   ]
  },
  {
   "cell_type": "code",
   "execution_count": 14,
   "metadata": {},
   "outputs": [],
   "source": [
    "# ENV SETUP\n",
    "api_key = fetch_api_key()\n",
    "df = DataFrame(columns=[\"Portal\", \"DATE\", \"NAICS Code\", \"RFQ/Solicitation/Buy #\", \"RFQ TITLE\", \"ISSUE DATE\", \"Close Date\"])\n",
    "\n",
    "\n",
    "# UI SETUP\n",
    "sg.theme('DarkBlue2') \n",
    "\n",
    "naics_list = get_selected_naics()\n",
    "current_naics_list = naics_list.copy()\n",
    "\n",
    "layout = [  [sg.Text('Welcome to the SAM.gov Query Tool. \\nPress the \\\"SEND REQUESTS\\\" button to request today\\'s contract opportunities \\nfor the selected NAICS codes.', size=(80,10))],\n",
    "            [sg.Frame('Enter additional NAICS codes:', [[sg.Combo(values=naics_list, key=\"new_naics\", enable_events=True, bind_return_key=True)]])],\n",
    "            [sg.Frame('Currently selected NAICS codes:', layout=current_naics_layout(naics_list), k=\"current_naics\")],\n",
    "            [sg.Button('SEND REQUESTS', k=\"send_requests\")],\n",
    "            [sg.Output(size=(80, 10))] ]\n",
    "\n",
    "\n",
    "window = sg.Window('SAM.gov Query Tool', layout, size=(600,500))\n",
    "\n",
    "while True:\n",
    "    event, values = window.read()\n",
    "    # print(\"event: \" + str(event))\n",
    "    # print(\"values: \")\n",
    "    # print(values)\n",
    "\n",
    "    if event == sg.WIN_CLOSED or event == 'Cancel': # if user closes window or clicks cancel\n",
    "        break\n",
    "\n",
    "    elif event == \"new_naics\":\n",
    "        new_naic = values[event]\n",
    "        if (not new_naic in current_naics_list):\n",
    "            current_naics_list.append(new_naic)\n",
    "            naics_list.append(new_naic)\n",
    "            window['new_naics'].update(values=naics_list)\n",
    "            window.extend_layout(window['current_naics'], [double_button(new_naic)])\n",
    "\n",
    "    elif event.startswith(\"remove_\"):\n",
    "        # get the number from after prefix\n",
    "        naic = event[event.index(\"_\") + 1:]\n",
    "        current_naics_list.remove(naic)\n",
    "        window[event].update(visible=False)\n",
    "        window[\"button_\"+naic].update(visible=False)\n",
    "\n",
    "    elif event == \"send_requests\":\n",
    "        # for each naics code:\n",
    "        # parse response object\n",
    "        # grab fields you care about and cram em into a CSV\n",
    "        for naics_code in current_naics_list:\n",
    "            print(\"Attempting to get contract opportunities for NAICS code \" + naics_code + \"...\")\n",
    "            response = get(generate_request(10, naics_code, api_key))\n",
    "            print(\"Response status code: \" + str(response.status_code))\n",
    "            if (str(response.status_code).startswith(\"2\")):\n",
    "                content = loads(response.content)\n",
    "                print(\"Successful response. Found \" + str(content[\"totalRecords\"]) + \" records.\")\n",
    "                print(\"Creating records...\")\n",
    "                for opportunity in content[\"opportunitiesData\"]:\n",
    "                    record = create_opportunity_record(opportunity)\n",
    "                    print(\"Adding record \" + str(record))\n",
    "                    df = concat([df, record])\n",
    "            elif (str(response.status_code) == \"429\"):\n",
    "                print(\"This api key is being rate limited. Please try again later. For more information on rate limits, see: https://www.fsd.gov/gsafsd_sp?id=gsafsd_kb_articles&sys_id=ee6c594b1bdb251006b09796bc4bcb4a\")\n",
    "            sleep(1)\n",
    "        # output the df as a CSV\n",
    "        filename = \"Contract_Opportunities_\" + datetime.datetime.now().ctime().replace(\":\", \"-\").replace(\" \", \"_\") + \".xlsx\"\n",
    "        df.to_excel(filename, index=False)\n",
    "        print(\"Created file \" + filename)\n",
    "        \n",
    "            \n",
    "\n",
    "\n",
    "window.close()"
   ]
  },
  {
   "cell_type": "code",
   "execution_count": 15,
   "metadata": {},
   "outputs": [],
   "source": [
    "# raw_json = \"\"\n",
    "# with open(\"test_data.txt\") as file:\n",
    "#     raw_json = file.read()\n",
    "# obj = json.loads(raw_json)"
   ]
  },
  {
   "cell_type": "code",
   "execution_count": 16,
   "metadata": {},
   "outputs": [],
   "source": [
    "# rec = create_opportunity_record(obj[\"opportunitiesData\"][0])"
   ]
  },
  {
   "cell_type": "code",
   "execution_count": 17,
   "metadata": {},
   "outputs": [],
   "source": [
    "# df = DataFrame(columns=[\"Portal\", \"DATE\", \"NAICS Code\", \"RFQ/Solicitation/Buy #\", \"RFQ TITLE\", \"ISSUE DATE\", \"Close Date\"])"
   ]
  },
  {
   "cell_type": "code",
   "execution_count": 18,
   "metadata": {},
   "outputs": [],
   "source": [
    "# df = concat([df, DataFrame.from_dict(rec)])"
   ]
  },
  {
   "cell_type": "code",
   "execution_count": 19,
   "metadata": {},
   "outputs": [],
   "source": [
    "# df"
   ]
  },
  {
   "cell_type": "code",
   "execution_count": 20,
   "metadata": {},
   "outputs": [],
   "source": [
    "# df.to_excel(\"test_sheet.xlsx\", index=False)"
   ]
  }
 ],
 "metadata": {
  "kernelspec": {
   "display_name": "Python 3",
   "language": "python",
   "name": "python3"
  },
  "language_info": {
   "codemirror_mode": {
    "name": "ipython",
    "version": 3
   },
   "file_extension": ".py",
   "mimetype": "text/x-python",
   "name": "python",
   "nbconvert_exporter": "python",
   "pygments_lexer": "ipython3",
   "version": "3.12.0"
  },
  "orig_nbformat": 4
 },
 "nbformat": 4,
 "nbformat_minor": 2
}
