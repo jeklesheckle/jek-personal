{
 "cells": [
  {
   "cell_type": "markdown",
   "metadata": {},
   "source": [
    "### Example of Requests\n",
    "The user interface I'm planning looks considerably different, but this is an example of the raw data I can access."
   ]
  },
  {
   "cell_type": "markdown",
   "metadata": {},
   "source": [
    "#### Setup"
   ]
  },
  {
   "cell_type": "code",
   "execution_count": 1,
   "metadata": {},
   "outputs": [],
   "source": [
    "# get API key\n",
    "api_key = None\n",
    "with open(\"./creds.txt\") as creds_file:\n",
    "    api_key = creds_file.read() # needs rotated by 10/19 or so"
   ]
  },
  {
   "cell_type": "code",
   "execution_count": 2,
   "metadata": {},
   "outputs": [],
   "source": [
    "# import libraries\n",
    "import requests\n",
    "import json"
   ]
  },
  {
   "cell_type": "code",
   "execution_count": 19,
   "metadata": {},
   "outputs": [],
   "source": [
    "request = \"https://api.sam.gov/prod/opportunities/v2/search?limit=1&api_key=\" + api_key + \"&postedFrom=01/01/2022&postedTo=05/10/2022&ptype=a&deptname=general\"\n",
    "response = requests.get(request)"
   ]
  },
  {
   "cell_type": "code",
   "execution_count": 21,
   "metadata": {},
   "outputs": [],
   "source": [
    "request = \"https://api.sam.gov/prod/opportunities/v2/search?limit=1&api_key=\" + api_key + \"&noticeid=569a915c42fa4381b6f487a2855ea86f\"\n",
    "response = requests.get(request)"
   ]
  },
  {
   "cell_type": "code",
   "execution_count": 22,
   "metadata": {},
   "outputs": [
    {
     "data": {
      "text/plain": [
       "'{\"totalRecords\":1,\"limit\":1,\"offset\":0,\"opportunitiesData\":[{\"noticeId\":\"569a915c42fa4381b6f487a2855ea86f\",\"title\":\"JANITORIAL SERVICES FOR NORTH SIERRA NEVADA REGION FACILITIES\",\"solicitationNumber\":\"89503323QWA000214\",\"fullParentPathName\":\"ENERGY, DEPARTMENT OF.ENERGY, DEPARTMENT OF.WESTERN-SIERRA NEVADA REGION\",\"fullParentPathCode\":\"089.8900.895033\",\"postedDate\":\"2023-09-22\",\"type\":\"Combined Synopsis/Solicitation\",\"baseType\":\"Combined Synopsis/Solicitation\",\"archiveType\":\"auto15\",\"archiveDate\":\"2023-10-12\",\"typeOfSetAsideDescription\":\"Total Small Business Set-Aside (FAR 19.5)\",\"typeOfSetAside\":\"SBA\",\"responseDeadLine\":\"2023-09-27T10:00:00-07:00\",\"naicsCode\":\"561720\",\"naicsCodes\":[\"561720\"],\"classificationCode\":\"S201\",\"active\":\"Yes\",\"award\":null,\"pointOfContact\":[{\"fax\":null,\"type\":\"primary\",\"email\":\"apowell@wapa.gov\",\"phone\":\"9164944270\",\"title\":null,\"fullName\":\"Alicia Sharlene Powell\"}],\"description\":\"https://api.sam.gov/prod/opportunities/v1/noticedesc?noticeid=569a915c42fa4381b6f487a2855ea86f\",\"organizationType\":\"OFFICE\",\"officeAddress\":{\"zipcode\":\"95630\",\"city\":\"FOLSOM\",\"countryCode\":\"USA\",\"state\":\"CA\"},\"placeOfPerformance\":{},\"additionalInfoLink\":null,\"uiLink\":\"https://sam.gov/opp/569a915c42fa4381b6f487a2855ea86f/view\",\"links\":[{\"rel\":\"self\",\"href\":\"https://api.sam.gov/prod/opportunities/v2/search?noticeid=569a915c42fa4381b6f487a2855ea86f&limit=1\"}],\"resourceLinks\":[\"https://sam.gov/api/prod/opps/v3/opportunities/resources/files/0324b1edf9ed46cba7b2b979e9cedc41/download?api_key=null&token=\",\"https://sam.gov/api/prod/opps/v3/opportunities/resources/files/4dfa7ec368af4b8f9c1c5e90faf5755d/download?api_key=null&token=\",\"https://sam.gov/api/prod/opps/v3/opportunities/resources/files/7148fe154d9b413087fa68f041091886/download?api_key=null&token=\",\"https://sam.gov/api/prod/opps/v3/opportunities/resources/files/7f6fe0d4440b4462992a37e0dc2d32a2/download?api_key=null&token=\",\"https://sam.gov/api/prod/opps/v3/opportunities/resources/files/9851258989e54819b788adbc6f801c39/download?api_key=null&token=\"]}],\"links\":[{\"rel\":\"self\",\"href\":\"null/opportunities/v2/search?limit=1&noticeid=569a915c42fa4381b6f487a2855ea86f\"}]}'"
      ]
     },
     "execution_count": 22,
     "metadata": {},
     "output_type": "execute_result"
    }
   ],
   "source": [
    "response.content.decode('utf-8')"
   ]
  }
 ],
 "metadata": {
  "kernelspec": {
   "display_name": "Python 3",
   "language": "python",
   "name": "python3"
  },
  "language_info": {
   "codemirror_mode": {
    "name": "ipython",
    "version": 3
   },
   "file_extension": ".py",
   "mimetype": "text/x-python",
   "name": "python",
   "nbconvert_exporter": "python",
   "pygments_lexer": "ipython3",
   "version": "3.10.2"
  },
  "orig_nbformat": 4
 },
 "nbformat": 4,
 "nbformat_minor": 2
}
