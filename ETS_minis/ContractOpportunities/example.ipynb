{
 "cells": [
  {
   "cell_type": "code",
   "execution_count": null,
   "metadata": {},
   "outputs": [],
   "source": [
    "# get API key\n",
    "api_key = None\n",
    "with open(\"./creds.txt\") as creds_file:\n",
    "    api_key = creds_file.read() # needs rotated by 10/19 or so"
   ]
  },
  {
   "cell_type": "code",
   "execution_count": null,
   "metadata": {},
   "outputs": [],
   "source": [
    "# import libraries\n",
    "import requests\n",
    "import json\n",
    "import datetime"
   ]
  },
  {
   "cell_type": "code",
   "execution_count": null,
   "metadata": {},
   "outputs": [],
   "source": [
    "base_uri = \"https://api.sam.gov/prod/opportunities/v2/search\"\n",
    "limit_string = \"?limit=\" + str(1000)\n",
    "\n",
    "# limit date to today mm/dd/yyyy\n",
    "now = datetime.datetime.now().date()\n",
    "now_date_string = str(now.month) + \"/\" + str(now.day) + \"/\" + str(now.year)\n",
    "date_range_string = \"?postedFrom=\" + now_date_string + \"?postedTo=\" + now_date_string\n",
    "\n",
    "# notice type: Combined Synopsis / Solicitation\n",
    "ptype_string = \"?ptype=k\"\n",
    "\n",
    "# NAICS codes\n",
    "# TODO\n",
    "\n",
    "# set aside: Total Small Business (19.5)\n",
    "set_aside_string = \"?typeOfSetAside=SBA\"\n",
    "\n",
    "# status: active\n",
    "# TODO (GSA haven't implemented somehow as of 10/7/2023)\n",
    "\n",
    "request = base_uri + limit_string + \"&api_key=\" + api_key + date_range_string + ptype_string + set_aside_string"
   ]
  },
  {
   "cell_type": "code",
   "execution_count": null,
   "metadata": {},
   "outputs": [],
   "source": [
    "response = requests.get(request)"
   ]
  },
  {
   "cell_type": "code",
   "execution_count": null,
   "metadata": {},
   "outputs": [],
   "source": [
    "response.content.decode('utf-8')"
   ]
  }
 ],
 "metadata": {
  "kernelspec": {
   "display_name": "Python 3",
   "language": "python",
   "name": "python3"
  },
  "language_info": {
   "codemirror_mode": {
    "name": "ipython",
    "version": 3
   },
   "file_extension": ".py",
   "mimetype": "text/x-python",
   "name": "python",
   "nbconvert_exporter": "python",
   "pygments_lexer": "ipython3",
   "version": "3.10.2"
  },
  "orig_nbformat": 4
 },
 "nbformat": 4,
 "nbformat_minor": 2
}
