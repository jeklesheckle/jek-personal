{
 "metadata": {
  "language_info": {
   "codemirror_mode": {
    "name": "ipython",
    "version": 3
   },
   "file_extension": ".py",
   "mimetype": "text/x-python",
   "name": "python",
   "nbconvert_exporter": "python",
   "pygments_lexer": "ipython3",
   "version": "3.8.5-final"
  },
  "orig_nbformat": 2,
  "kernelspec": {
   "name": "Python 3.8.5 32-bit",
   "display_name": "Python 3.8.5 32-bit",
   "metadata": {
    "interpreter": {
     "hash": "8b02e3a01e83fb4ab76fffcbe96e968af7d8652aa50e13188eb6fa76b3cc30d0"
    }
   }
  }
 },
 "nbformat": 4,
 "nbformat_minor": 2,
 "cells": [
  {
   "source": [
    "# Something like an AGI but not exactly that"
   ],
   "cell_type": "markdown",
   "metadata": {}
  },
  {
   "source": [
    "#The goal of this first bit of code is simply to prototype the memory access functionality.\n",
    "\n",
    "#It will be used by the main executor (kernel?) and is the most interesting part of the program.\n",
    "\n",
    "#The function is basically that data is stored in Concept objects which relate to each other heavily. Each stores lists of pointers to other objects that point to it and objects it points to.\n",
    "\n",
    "#A Noun is a Concept that is pointed to by and points to verbs. E.g. [eat] (sandwich), (boy) [play]. In most human languages, nouns can have synonyms. In this model however, there will be no synonyms, only adjectives. E.g. (pipe) is a noun, but (long pipe) would not be. Instead you would do (pipe) [be] (long)\n",
    "# rather than have a human know all of the specific verbs and nouns, I think it would be wise to have a synonym recommender. If a human enters an unrecognized word, they could be asked if it's a synonym or a completely new Concept"
   ],
   "cell_type": "code",
   "metadata": {},
   "execution_count": 1,
   "outputs": []
  },
  {
   "source": [
    "I think a really important part of this is going to be the structure of sentences. The core componenets of a sentence in this language would be:  \n",
    "* nouns  \n",
    "* verbs  \n",
    "* interrogatives  \n",
    "* operators \\(and, or, like, because, etc\\)  \n",
    "  \n",
    "Any text without an interrogative could be interpreted as a statement, which is something designed to educate the Agilike. Something like *human* **consume** *food* would be parsed and added to memory. Such a statement might prompt questions back from the Agilike such as ?what? *food* like *pie*  \n",
    "  \n",
    "  That does raise the question as to when a chain of questions would stop. For example, a question about why balloons go up would naturally transition into a question about why the densities of gasses are different. I suppose, like most parents, I could eventually answer that I don't know. I could set IDK as a sort of operator that prevents further questions. if(response==IDK) then endquestioning else askquestion. Once I got the askquestion down in that little pseudocode I could potentially spend a very long time explaining every relevant thing I know to it until I've idk'd out in every direction. All I'd essentially be creating is a journal of reasoning as far as ?why? questions go. It's more about transitioning the answers from ?why? questions into knowledge that can answer ?what? questions.  \n",
    "  >Why balloon go up?  \n",
    "  >balloon float  \n",
    "  >what float be  \n",
    "  >balloon do float and boat do float and bubble do float  \n",
    "  >why float be  \n",
    "  >object float because object be not dense  \n",
    "\n",
    "  Operators:  \n",
    "  - conjunctions such as *and* and *or*  \n",
    "  - relational operator *like*? indicates that two items are in some way related. I think I need to be more specific about these, may need several operators. I could imply that two words are synonyms like ball and sphere using *ball* synonymous *sphere*. I think maybe other types of relation are unimportant to include. Like saying \"pliers like tweezers\" seems a little important when I could just make similar associations for the two like that pliers do compress and tweezers do compress (compress as a synonym for pinch)"
   ],
   "cell_type": "markdown",
   "metadata": {}
  },
  {
   "source": [
    "## Types of questions:  \n",
    "It seems paramount to outline the types of questions people ask here and how that applies to Agilikes.  \n",
    "- Questions of \"what?\": These questions seek to understand what is. They can be answered with a statement such as \"you will become full\" or \"I do not know\"  .\n",
    "- Questions of \"where?\": These questions also seek to understand what is and can probably work on the same operator. They can be answered with a statement relative to existing knowledge such as \"close by\" or \"inside Detroit\". This makes me wonder if prepositions will be necessary or not.  \n",
    "- Questions of \"why?\": These questions seek to understand background information justifying existing knowledge. They can be answered with a statement beginning with \"because\" such as \"because the sun has enormous mass\" or \"because he wanted to\". This ties in closely to the creation of conclusions and I believe asking and answering these questions is particularly crucial. ?why? *sun* **be** *hot* could be answered with something simple like *sun* **be** *hot* because *sun* **be** *fire* or a more complicated answer chain involving concepts such as atoms, fusion, mass, and gravity.  \n",
    "- Questions of \"how?\": These are questions that seek to understand a process. They can be answered with steps or instructions, such as \"fill the tube with air by blowing into it\" or \"I stepped on a bear trap\".  \n",
    "- Questions of \"who?\": These questions seek to understand extra information to associate with an object. They can be answered with statements such as \"the ruler of France\" or \"it makes electrical power\". I believe it can be on the same operator as \"what?\" questions."
   ],
   "cell_type": "markdown",
   "metadata": {}
  },
  {
   "cell_type": "code",
   "execution_count": 2,
   "metadata": {},
   "outputs": [],
   "source": [
    "class Noun:\n",
    "    def __init__(self, name):\n",
    "        self.actors = []\n",
    "        self.actions = []\n",
    "        self.name = name\n",
    "\n",
    "class Verb:\n",
    "    def __init__(self, name):\n",
    "        self.subjects = []\n",
    "        self.predicates = [] #idk about this name but thinking of a name was getting in my way\n",
    "        self.name = name"
   ]
  },
  {
   "cell_type": "code",
   "execution_count": 3,
   "metadata": {},
   "outputs": [],
   "source": [
    "# this might be unnecesary OOP but.... bite me\n",
    "\n",
    "# handles synonym creation and access. Could probably just be a dict.\n",
    "class SynonymHandler:\n",
    "    def __init__(self):\n",
    "        self.synonyms = {}\n",
    "\n",
    "    # adds a synonym if it's the first for a noun, adds it to the noun entry of the synonyms dict if it's not the first synonym for that noun\n",
    "    def add_synonym(self, noun_name, synonym_name):\n",
    "        if (noun_name in self.synonyms):\n",
    "            self.synonyms[noun_name].append(synonym_name)\n",
    "        else:\n",
    "            self.synonyms[noun_name] = [synonym_name]"
   ]
  },
  {
   "cell_type": "code",
   "execution_count": 4,
   "metadata": {},
   "outputs": [],
   "source": [
    "# now I wanna make a class for the AGI-thing so I can anthropromorphize it\n",
    "\n",
    "class Agilike:\n",
    "    def __init__(self):\n",
    "        self.synonym_handler = SynonymHandler() #TODO can probably make synonym_handler and existing_nouns the same object to save space\n",
    "        self.existing_nouns = {} # dict from name to object\n",
    "\n",
    "    # this is that synonym recommender\n",
    "    # for starters, have it show all Concepts of the appropriate type and ask to select the synonym or create a new Concept\n",
    "\n",
    "    def handle_unrecognized_noun(self, noun_name):\n",
    "        print(\"I didn't recognize the noun \\\"\" + noun_name + \"\\\".\")\n",
    "        print(\"Please enter one of the following as a synonym or create a new noun by entering anything not listed.\")\n",
    "        for existing_noun in self.existing_nouns:\n",
    "            print(existing_noun)\n",
    "        \n",
    "        entry = input()\n",
    "\n",
    "        if (entry is not None):\n",
    "            for existing_noun in self.existing_nouns:\n",
    "                if (existing_noun == entry):\n",
    "                    self.synonym_handler.add_synonym(existing_noun, noun_name)\n",
    "                    print(\"Added \" + noun_name + \" as a synonym for \" + existing_noun + \".\")\n",
    "                    return(\"synonym created\")\n",
    "                \n",
    "        self.existing_nouns[noun_name] = Noun() # handle errors in noun creation in Noun.__init__()\n",
    "        print(\"New noun \\\"\" + noun_name + \"\\\" created in existing_nouns\")\n",
    "        return(\"noun created\")\n",
    "\n",
    "    def parse_sentence(self, sentence):\n",
    "        "
   ]
  },
  {
   "cell_type": "code",
   "execution_count": 5,
   "metadata": {},
   "outputs": [
    {
     "output_type": "stream",
     "name": "stdout",
     "text": [
      "I didn't recognize the noun burger.\n",
      "Please enter one of the following as a synonym or create a new noun by entering anything not listed.\n",
      "hot dog\n",
      "sandwich\n",
      "glass\n",
      "Added burger as a synonym for sandwich.\n"
     ]
    },
    {
     "output_type": "execute_result",
     "data": {
      "text/plain": [
       "'synonym created'"
      ]
     },
     "metadata": {},
     "execution_count": 5
    }
   ],
   "source": [
    "little_buddy = Agilike()\n",
    "little_buddy.existing_nouns[\"hot dog\"] = Noun(\"hot dog\")\n",
    "little_buddy.existing_nouns[\"sandwich\"] = Noun(\"sandwich\")\n",
    "little_buddy.existing_nouns[\"glass\"] = Noun(\"glass\")\n",
    "\n",
    "\n",
    "little_buddy.handle_unrecognized_noun(\"burger\")"
   ]
  },
  {
   "cell_type": "code",
   "execution_count": null,
   "metadata": {},
   "outputs": [],
   "source": []
  }
 ]
}