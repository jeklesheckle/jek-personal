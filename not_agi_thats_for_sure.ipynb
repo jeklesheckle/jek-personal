{
 "metadata": {
  "language_info": {
   "codemirror_mode": {
    "name": "ipython",
    "version": 3
   },
   "file_extension": ".py",
   "mimetype": "text/x-python",
   "name": "python",
   "nbconvert_exporter": "python",
   "pygments_lexer": "ipython3",
   "version": "3.8.5-final"
  },
  "orig_nbformat": 2,
  "kernelspec": {
   "name": "Python 3.8.5 32-bit",
   "display_name": "Python 3.8.5 32-bit",
   "metadata": {
    "interpreter": {
     "hash": "8b02e3a01e83fb4ab76fffcbe96e968af7d8652aa50e13188eb6fa76b3cc30d0"
    }
   }
  }
 },
 "nbformat": 4,
 "nbformat_minor": 2,
 "cells": [
  {
   "source": [
    "# Something like an AGI but not exactly that"
   ],
   "cell_type": "markdown",
   "metadata": {}
  },
  {
   "source": [
    "#The goal of this first bit of code is simply to prototype the memory access functionality.\n",
    "\n",
    "#It will be used by the main executor (kernel?) and is the most interesting part of the program.\n",
    "\n",
    "#The function is basically that data is stored in Concept objects which relate to each other heavily. Each stores lists of pointers to other objects that point to it and objects it points to.\n",
    "\n",
    "#A Noun is a Concept that is pointed to by and points to verbs. E.g. [eat] (sandwich), (boy) [play]. In most human languages, nouns can have synonyms. In this model however, there will be no synonyms, only adjectives. E.g. (pipe) is a noun, but (long pipe) would not be. Instead you would do (pipe) [be] (long)\n",
    "# rather than have a human know all of the specific verbs and nouns, I think it would be wise to have a synonym recommender. If a human enters an unrecognized word, they could be asked if it's a synonym or a completely new Concept"
   ],
   "cell_type": "code",
   "metadata": {},
   "execution_count": 1,
   "outputs": []
  },
  {
   "cell_type": "code",
   "execution_count": 2,
   "metadata": {},
   "outputs": [],
   "source": [
    "class Noun:\n",
    "    def __init__(self, name):\n",
    "        self.actors = []\n",
    "        self.actions = []\n",
    "        self.name = name\n",
    "\n",
    "class Verb:\n",
    "    def __init__(self, name):\n",
    "        self.subjects = []\n",
    "        self.predicates = [] #idk about this name but thinking of a name was getting in my way\n",
    "        self.name = name"
   ]
  },
  {
   "cell_type": "code",
   "execution_count": 3,
   "metadata": {},
   "outputs": [],
   "source": [
    "# this might be unnecesary OOP but.... bite me\n",
    "\n",
    "# handles synonym creation and access. Could probably just be a dict.\n",
    "class SynonymHandler:\n",
    "    def __init__(self):\n",
    "        self.synonyms = {}\n",
    "\n",
    "    # adds a synonym if it's the first for a noun, adds it to the noun entry of the synonyms dict if it's not the first synonym for that noun\n",
    "    def add_synonym(self, noun_name, synonym_name):\n",
    "        if (noun_name in self.synonyms):\n",
    "            self.synonyms[noun_name].append(synonym_name)\n",
    "        else:\n",
    "            self.synonyms[noun_name] = [synonym_name]"
   ]
  },
  {
   "cell_type": "code",
   "execution_count": 4,
   "metadata": {},
   "outputs": [],
   "source": [
    "# now I wanna make a class for the AGI-thing so I can anthropromorphize it\n",
    "\n",
    "class Agilike:\n",
    "    def __init__(self):\n",
    "        self.synonym_handler = SynonymHandler() #TODO can probably make synonym_handler and existing_nouns the same object to save space\n",
    "        self.existing_nouns = {} # dict from name to object\n",
    "\n",
    "    # this is that synonym recommender\n",
    "    # for starters, have it show all Concepts of the appropriate type and ask to select the synonym or create a new Concept\n",
    "\n",
    "    def handle_unrecognized_noun(self, noun_name):\n",
    "        print(\"I didn't recognize the noun \" + noun_name + \".\")\n",
    "        print(\"Please enter one of the following as a synonym or create a new noun by entering anything not listed.\")\n",
    "        for existing_noun in self.existing_nouns:\n",
    "            print(existing_noun)\n",
    "        \n",
    "        entry = input()\n",
    "\n",
    "        if (entry is not None):\n",
    "            for existing_noun in self.existing_nouns:\n",
    "                if (existing_noun == entry):\n",
    "                    self.synonym_handler.add_synonym(existing_noun, noun_name)\n",
    "                    print(\"Added \" + noun_name + \" as a synonym for \" + existing_noun + \".\")\n",
    "                    return(\"synonym created\")\n",
    "                \n",
    "        self.existing_nouns[noun_name] = Noun() # handle errors in noun creation in Noun.__init__()\n",
    "        print(\"New noun \\\"\" + noun_name + \"\\\" created in existing_nouns\")\n",
    "        return(\"noun created\")"
   ]
  },
  {
   "cell_type": "code",
   "execution_count": 5,
   "metadata": {},
   "outputs": [
    {
     "output_type": "stream",
     "name": "stdout",
     "text": [
      "I didn't recognize the noun burger.\n",
      "Please enter one of the following as a synonym or create a new noun by entering anything not listed.\n",
      "hot dog\n",
      "sandwich\n",
      "glass\n",
      "Added burger as a synonym for sandwich.\n"
     ]
    },
    {
     "output_type": "execute_result",
     "data": {
      "text/plain": [
       "'synonym created'"
      ]
     },
     "metadata": {},
     "execution_count": 5
    }
   ],
   "source": [
    "little_buddy = Agilike()\n",
    "little_buddy.existing_nouns[\"hot dog\"] = Noun(\"hot dog\")\n",
    "little_buddy.existing_nouns[\"sandwich\"] = Noun(\"sandwich\")\n",
    "little_buddy.existing_nouns[\"glass\"] = Noun(\"glass\")\n",
    "\n",
    "\n",
    "little_buddy.handle_unrecognized_noun(\"burger\")"
   ]
  },
  {
   "cell_type": "code",
   "execution_count": null,
   "metadata": {},
   "outputs": [],
   "source": []
  }
 ]
}